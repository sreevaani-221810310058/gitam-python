{
 "cells": [
  {
   "cell_type": "code",
   "execution_count": 4,
   "metadata": {},
   "outputs": [
    {
     "name": "stdout",
     "output_type": "stream",
     "text": [
      "True\n",
      "False\n"
     ]
    }
   ],
   "source": [
    "#function to test two digit number matching\n",
    "import re\n",
    "def twoDigitMatching(n):\n",
    "    pattern='^[0-9]{2}$'\n",
    "    n=str(n)\n",
    "    if re.match(pattern,n):\n",
    "        return True\n",
    "    return False\n",
    "print(twoDigitMatching(12))#true\n",
    "print(twoDigitMatching(123))#false\n"
   ]
  },
  {
   "cell_type": "code",
   "execution_count": 5,
   "metadata": {},
   "outputs": [
    {
     "name": "stdout",
     "output_type": "stream",
     "text": [
      "True\n",
      "False\n"
     ]
    }
   ],
   "source": [
    "#function to define to test username having 8 characters\n",
    "#upper case and lower case\n",
    "def testUsername(s):\n",
    "    pattern = '^[a-zA-Z]{8}$'\n",
    "    if re.match(pattern,s):\n",
    "        return True\n",
    "    return False\n",
    "print(testUsername('GitamHYD'))\n",
    "print(testUsername('Gitam188'))"
   ]
  },
  {
   "cell_type": "markdown",
   "metadata": {},
   "source": [
    "### REGULAR EXPRESSIONS FOR CHARACTERS\n",
    "- [A-Z]----FOR UPPER CASE\n",
    "-[a-z]-----FOR LOWER CASE\n",
    "- [a-zA-Z]----combination of upper and lower char\n",
    "-[a-zA-Z0-9]-----combination of upper and lower case char along with no.\n"
   ]
  },
  {
   "cell_type": "markdown",
   "metadata": {},
   "source": [
    "### regular expression to match the indian mobile number\n",
    "- 10 digits\n",
    "-(first digitwill be [6-9]) and remaining 9 digits will be[0-9]\n",
    "-eg--9848346482\n",
    "-re---^[6-9][0-9]{9}$\n",
    "-re---^[+][9][1][6-9][0-9]{9}"
   ]
  },
  {
   "cell_type": "code",
   "execution_count": 8,
   "metadata": {},
   "outputs": [
    {
     "data": {
      "text/plain": [
       "True"
      ]
     },
     "execution_count": 8,
     "metadata": {},
     "output_type": "execute_result"
    }
   ],
   "source": [
    "#FUNCTION TO VALIDATE THE INDIAN MOBILE NUMBER\n",
    "def phoneNumberValidation(phone):\n",
    "    pattern='^[+][9][1][6-9][0-9]{9}$'\n",
    "    phone=str(phone)\n",
    "    if re.match(pattern,phone):\n",
    "        return True\n",
    "    return False\n",
    "phoneNumberValidation('+919848452356')"
   ]
  },
  {
   "cell_type": "markdown",
   "metadata": {},
   "source": [
    "- regular expression to validate roll number\n",
    "  - example : 1521A0501\n",
    "              1521A0109\n",
    "              1521A0499\n",
    "  -regular expression to validate password\n",
    "   - parameters : Len min of 6 characters and Max of 15 characters\n",
    "   - accept lower case,uppercase,digitspecialchar(@,#,!)\n",
    "   "
   ]
  },
  {
   "cell_type": "markdown",
   "metadata": {},
   "source": [
    "### email id validation using regular expression\n",
    "-example : username@domainname.extension\n",
    "-username :-\n",
    "      - length will be [6-15]\n",
    "      - no spls characters apart from underscore(_)\n",
    "      - should not begin and ends with underscore\n",
    "      -characters set: all digits and lower case\n",
    "-domain name :\n",
    "       - length will b e [3-18]\n",
    "       -no  spsls characters\n",
    "       -character set : all digits and lowercase\n",
    "-extension :\n",
    "     - length will be [2-4]\n",
    "     - no spls char\n",
    "     - character set: lower case char\n",
    " \n"
   ]
  },
  {
   "cell_type": "code",
   "execution_count": 11,
   "metadata": {},
   "outputs": [
    {
     "data": {
      "text/plain": [
       "True"
      ]
     },
     "execution_count": 11,
     "metadata": {},
     "output_type": "execute_result"
    }
   ],
   "source": [
    "def emailIdValidation(email):\n",
    "    pattern='^[0-9a-z][0-9a-z_.]{5,14}[@][a-z0-9]{3,18}[.][a-z]{2,4}$'\n",
    "    if re.match(pattern,email):\n",
    "        return True\n",
    "    return False\n",
    "emailIdValidation('sreevijkid@gmail.com')\n",
    "    \n",
    "    "
   ]
  },
  {
   "cell_type": "markdown",
   "metadata": {},
   "source": [
    "### python turtle\n",
    "  - turtle graphics"
   ]
  },
  {
   "cell_type": "code",
   "execution_count": 1,
   "metadata": {},
   "outputs": [],
   "source": [
    "#step 1: make all the turtle package to be imported\n",
    "import turtle\n",
    "#turtle method creates and returns a new object\n",
    "a1=turtle.Turtle()\n",
    "#forward() method moves 100 pixels\n",
    "turtle.forward(250)\n",
    "#we are done \n",
    "turtle.done()"
   ]
  },
  {
   "cell_type": "code",
   "execution_count": 3,
   "metadata": {},
   "outputs": [],
   "source": [
    "import turtle as tt\n",
    "a1 = tt.Turtle()\n",
    "tt.backward(100)\n",
    "tt.done()\n"
   ]
  },
  {
   "cell_type": "code",
   "execution_count": 5,
   "metadata": {},
   "outputs": [],
   "source": [
    "#draw square\n",
    "import turtle as tt\n",
    "a1=tt.Turtle()\n",
    "a1.forward(150)\n",
    "a1.right(90)\n",
    "a1.forward(150)\n",
    "a1.right(90)\n",
    "a1.forward(150)\n",
    "a1.right(90)\n",
    "a1.forward(150)\n",
    "a1.right(90)\n",
    "tt.done()"
   ]
  },
  {
   "cell_type": "code",
   "execution_count": 1,
   "metadata": {},
   "outputs": [],
   "source": [
    "#draw square\n",
    "import turtle as tt\n",
    "a1=tt.Turtle()\n",
    "a1.backward(150)\n",
    "a1.left(90)\n",
    "a1.backward(150)\n",
    "a1.left(90)\n",
    "a1.backward(150)\n",
    "a1.left(90)\n",
    "a1.backward(150)\n",
    "a1.left(90)\n",
    "tt.done()"
   ]
  },
  {
   "cell_type": "code",
   "execution_count": 5,
   "metadata": {},
   "outputs": [],
   "source": [
    "#loop statement\n",
    "import turtle as tt\n",
    "a1=tt.Turtle()\n",
    "for i in range(4):\n",
    "    a1.backward(150)\n",
    "    a1.left(90)\n",
    "tt.done()"
   ]
  },
  {
   "cell_type": "code",
   "execution_count": 7,
   "metadata": {},
   "outputs": [],
   "source": [
    "#star\n",
    "import turtle as t\n",
    "a1 = t.Turtle()\n",
    "for i in range(40):\n",
    "    a1.forward(50)\n",
    "    a1.right(144)\n",
    "t.done()"
   ]
  },
  {
   "cell_type": "code",
   "execution_count": null,
   "metadata": {},
   "outputs": [],
   "source": [
    "#spiraling star\n",
    "import turtle as t\n",
    "a1 = t.Turtle()\n",
    "a1.pencolor('pink')\n",
    "for i in range(40):\n",
    "    a1.forward(i*10)\n",
    "    a1.right(144)\n",
    "t.done()\n"
   ]
  },
  {
   "cell_type": "code",
   "execution_count": null,
   "metadata": {},
   "outputs": [],
   "source": [
    "#square spiral\n",
    "import turtle as t\n",
    "a1 = t.Turtle()\n",
    "a1.pencolor('orange')\n",
    "for i in range(250):\n",
    "    a1.forward(i)\n",
    "    a1.right(91)\n",
    "t.done()"
   ]
  },
  {
   "cell_type": "code",
   "execution_count": 1,
   "metadata": {},
   "outputs": [],
   "source": [
    "#hexagon with multicolour\n",
    "from turtle import *\n",
    "colors = ['blue','green','yellow','orange','purple','black']\n",
    "for x in range(360):\n",
    "    pencolor(colors[x%6])\n",
    "    width(x/100 + 1)\n",
    "    forward(x)\n",
    "    left(59)\n",
    "    "
   ]
  },
  {
   "cell_type": "code",
   "execution_count": 3,
   "metadata": {},
   "outputs": [],
   "source": [
    "#goto function\n",
    "from turtle import *\n",
    "goto(50,50)\n",
    "goto(-50,50)\n",
    "goto(100,-50)\n",
    "goto(-50,-50)"
   ]
  },
  {
   "cell_type": "code",
   "execution_count": null,
   "metadata": {},
   "outputs": [],
   "source": [
    "#setheading(heading)\n",
    "#will change the current direction to heading angle\n",
    "from turtle import *\n",
    "colors = ['blue','red','yellow','purple','pink','orange']\n",
    "for angle in range(0,360,15):\n",
    "    pencolor(colors[angle%6])\n",
    "    setheading(angle)\n",
    "    forward(100)\n",
    "    write(str(angle)+'0')\n",
    "    backward(100)"
   ]
  },
  {
   "cell_type": "code",
   "execution_count": 6,
   "metadata": {},
   "outputs": [],
   "source": [
    "from turtle import *\n",
    "pencolor('blue')\n",
    "for i in range(15):\n",
    "    forward(100)\n",
    "    left(90)\n",
    "    forward(10)\n",
    "    left(90)\n",
    "    forward(100)\n",
    "    right(90)\n",
    "    forward(10)\n",
    "    right(90)\n",
    "pencolor('red')\n",
    "for i in range(90):\n",
    "    undo()"
   ]
  },
  {
   "cell_type": "code",
   "execution_count": 4,
   "metadata": {},
   "outputs": [],
   "source": [
    "from turtle import *\n",
    "for i in range(15):\n",
    "    forward(100)\n",
    "    left(90)\n",
    "    forward(10)\n",
    "    left(90)\n",
    "    forward(100)\n",
    "    right(90)\n",
    "    forward(10)\n",
    "    right(90)"
   ]
  },
  {
   "cell_type": "code",
   "execution_count": 1,
   "metadata": {},
   "outputs": [],
   "source": [
    "from turtle import *\n",
    "pensize(50)\n",
    "pencolor('blue')\n",
    "forward(250)\n",
    "pencolor(0,1.0,0)\n",
    "forward(250)\n",
    "pensize(10)\n",
    "goto(-400,50)\n",
    "\n",
    "for red in range(4):\n",
    "    for green in range(4):\n",
    "        for blue in range(4):\n",
    "            pencolor(red/4.0,green/4.0,blue/4.0)\n",
    "            forward(10)"
   ]
  },
  {
   "cell_type": "code",
   "execution_count": null,
   "metadata": {},
   "outputs": [],
   "source": [
    "#draw rectangle\n",
    "import turtle as tt\n",
    "a1=tt.Turtle()\n",
    "a1.backward(350)\n",
    "a1.left(90)\n",
    "a1.forward(150)\n",
    "a1.left(90)\n",
    "a1.backward(350)\n",
    "a1.left(90)\n",
    "a1.forward(150)\n",
    "a1.right(90)\n",
    "tt.done()"
   ]
  },
  {
   "cell_type": "code",
   "execution_count": 1,
   "metadata": {},
   "outputs": [],
   "source": [
    "from turtle  import *\n",
    "colors = ['purple' , 'green' , 'blue' , 'orange' , 'pink' , 'red']\n",
    "reset()\n",
    "up()\n",
    "goto(-320,-195)\n",
    "width(90)\n",
    "for pcolor in colors:\n",
    "    color(pcolor)\n",
    "    down()\n",
    "    forward(750)\n",
    "    up()\n",
    "    backward(750)\n",
    "    left(90)\n",
    "    forward(100)\n",
    "    right(90)\n",
    "width(55)\n",
    "color('white')\n",
    "goto(0,-170)\n",
    "down()\n",
    "\n",
    "circle(170)\n",
    "left(90)\n",
    "forward(340)\n",
    "up()\n",
    "left(180)\n",
    "forward(170)\n",
    "up()\n",
    "backward(170)\n",
    "left(90)\n",
    "down()\n",
    "forward(170)\n",
    "up()\n",
    "goto(0,300)\n"
   ]
  },
  {
   "cell_type": "code",
   "execution_count": null,
   "metadata": {},
   "outputs": [],
   "source": []
  }
 ],
 "metadata": {
  "kernelspec": {
   "display_name": "Python 3",
   "language": "python",
   "name": "python3"
  },
  "language_info": {
   "codemirror_mode": {
    "name": "ipython",
    "version": 3
   },
   "file_extension": ".py",
   "mimetype": "text/x-python",
   "name": "python",
   "nbconvert_exporter": "python",
   "pygments_lexer": "ipython3",
   "version": "3.7.0"
  }
 },
 "nbformat": 4,
 "nbformat_minor": 2
}
