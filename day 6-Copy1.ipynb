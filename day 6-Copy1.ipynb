{
 "cells": [
  {
   "cell_type": "markdown",
   "metadata": {},
   "source": [
    "#standard libraries#\n",
    ". file i/o\n",
    ". regular expression\n",
    ". datetime\n",
    ". math(numerical and mathematical)\n"
   ]
  },
  {
   "cell_type": "markdown",
   "metadata": {},
   "source": [
    "### file handling in python\n",
    "- file:- document containing information resides on the permanenet storage\n",
    "- different types of files:- txt,doc,pdf,csv and etc...\n",
    "- input--keyboard\n",
    "- output--file\n",
    "### modes of the file\n",
    "- 'w'--this mode is used to writing files\n",
    " -- if the file is not present first it creates the file and write so me data to it\n",
    " -- if the file is already present the it will rewrite the new content "
   ]
  },
  {
   "cell_type": "code",
   "execution_count": 3,
   "metadata": {},
   "outputs": [
    {
     "name": "stdout",
     "output_type": "stream",
     "text": [
      "file is created and data has written\n"
     ]
    }
   ],
   "source": [
    "# function to create a file and write to the file\n",
    "def createfile(filename):\n",
    "    f=open(filename,'w')\n",
    "    for i in range(10):\n",
    "        f.write('this is %d line\\n'%i)\n",
    "    print(\"file is created and data has written\")\n",
    "    return\n",
    "createfile('file1.txt')\n",
    "    "
   ]
  },
  {
   "cell_type": "code",
   "execution_count": 4,
   "metadata": {},
   "outputs": [
    {
     "data": {
      "text/plain": [
       "'/home/student'"
      ]
     },
     "execution_count": 4,
     "metadata": {},
     "output_type": "execute_result"
    }
   ],
   "source": [
    "pwd"
   ]
  },
  {
   "cell_type": "code",
   "execution_count": 5,
   "metadata": {},
   "outputs": [
    {
     "name": "stdout",
     "output_type": "stream",
     "text": [
      "\u001b[0m\u001b[01;34manaconda3\u001b[0m/   \u001b[01;34mDownloads\u001b[0m/        \u001b[01;34mPictures\u001b[0m/        Untitled1.ipynb  Untitled.ipynb\r\n",
      "day 6.ipynb  examples.desktop  \u001b[01;34mPublic\u001b[0m/          Untitled2.ipynb  \u001b[01;34mVideos\u001b[0m/\r\n",
      "\u001b[01;34mDesktop\u001b[0m/     file1.txt         python 05.ipynb  Untitled3.ipynb\r\n",
      "\u001b[01;34mDocuments\u001b[0m/   \u001b[01;34mMusic\u001b[0m/            \u001b[01;34mTemplates\u001b[0m/       Untitled4.ipynb\r\n"
     ]
    }
   ],
   "source": [
    "ls"
   ]
  },
  {
   "cell_type": "code",
   "execution_count": 10,
   "metadata": {},
   "outputs": [
    {
     "name": "stdout",
     "output_type": "stream",
     "text": [
      "file is created and data has written\n"
     ]
    }
   ],
   "source": [
    "def createfile(filename):\n",
    "    f=open(filename,'w')\n",
    "    f.write('testing...\\n')\n",
    "    print(\"file is created and data has written\")\n",
    "    return\n",
    "createfile('file1.txt')\n",
    "    "
   ]
  },
  {
   "cell_type": "code",
   "execution_count": 11,
   "metadata": {},
   "outputs": [
    {
     "name": "stdout",
     "output_type": "stream",
     "text": [
      "testing...\r\n"
     ]
    }
   ],
   "source": [
    "cat file1.txt"
   ]
  },
  {
   "cell_type": "code",
   "execution_count": 8,
   "metadata": {},
   "outputs": [
    {
     "name": "stdout",
     "output_type": "stream",
     "text": [
      "file is created and data has written\n"
     ]
    }
   ],
   "source": [
    "def createfile(filename):\n",
    "    f=open(filename,'w')\n",
    "    for i in range(10):\n",
    "        f.write('this is %d line\\n'%i)\n",
    "    print(\"file is created and data has written\")\n",
    "    return\n",
    "createfile('file1.txt')\n",
    "    "
   ]
  },
  {
   "cell_type": "code",
   "execution_count": 9,
   "metadata": {},
   "outputs": [
    {
     "name": "stdout",
     "output_type": "stream",
     "text": [
      "this is 0 line\r\n",
      "this is 1 line\r\n",
      "this is 2 line\r\n",
      "this is 3 line\r\n",
      "this is 4 line\r\n",
      "this is 5 line\r\n",
      "this is 6 line\r\n",
      "this is 7 line\r\n",
      "this is 8 line\r\n",
      "this is 9 line\r\n"
     ]
    }
   ],
   "source": [
    "cat file1.txt"
   ]
  },
  {
   "cell_type": "code",
   "execution_count": 18,
   "metadata": {},
   "outputs": [
    {
     "name": "stdout",
     "output_type": "stream",
     "text": [
      "file is created and data has written\n"
     ]
    }
   ],
   "source": [
    "def appenddata(filename):\n",
    "    f=open(filename,'a')\n",
    "    for i in range(10):\n",
    "        f.write(\"this is %d line\\n\"%i)\n",
    "    print(\"file is created and data has written\")\n",
    "    return\n",
    "appenddata('file2.txt')\n",
    "    "
   ]
  },
  {
   "cell_type": "code",
   "execution_count": 19,
   "metadata": {},
   "outputs": [
    {
     "name": "stdout",
     "output_type": "stream",
     "text": [
      "testing...\r\n",
      "this is 0 line\r\n",
      "this is 1 line\r\n",
      "this is 2 line\r\n",
      "this is 3 line\r\n",
      "this is 4 line\r\n",
      "this is 5 line\r\n",
      "this is 6 line\r\n",
      "this is 7 line\r\n",
      "this is 8 line\r\n",
      "this is 9 line\r\n"
     ]
    }
   ],
   "source": [
    "cat file2.txt"
   ]
  },
  {
   "cell_type": "code",
   "execution_count": 22,
   "metadata": {},
   "outputs": [
    {
     "name": "stdout",
     "output_type": "stream",
     "text": [
      "file is created and data has written\n"
     ]
    }
   ],
   "source": [
    "def appenddata(filename):\n",
    "    f=open(filename,'a')\n",
    "    f.write('new line \\n')\n",
    "    f.write('new line 1\\n')\n",
    "    print(\"file is created and data has written\")\n",
    "    return\n",
    "appenddata('file2.txt')"
   ]
  },
  {
   "cell_type": "code",
   "execution_count": 23,
   "metadata": {},
   "outputs": [
    {
     "name": "stdout",
     "output_type": "stream",
     "text": [
      "testing...\r\n",
      "new line \r\n",
      "new line 1\r\n"
     ]
    }
   ],
   "source": [
    "cat file2.txt"
   ]
  },
  {
   "cell_type": "code",
   "execution_count": 26,
   "metadata": {},
   "outputs": [
    {
     "name": "stdout",
     "output_type": "stream",
     "text": [
      "testing...\n",
      "new line \n",
      "new line 1\n",
      "\n"
     ]
    }
   ],
   "source": [
    "# function to read the file data\n",
    "def readfiledata(filename):\n",
    "    f=open(filename,'r')\n",
    "    if f.mode=='r':\n",
    "        x=f.read()\n",
    "        print(x)\n",
    "    f.close()\n",
    "    return\n",
    "readfiledata('file2.txt')"
   ]
  },
  {
   "cell_type": "code",
   "execution_count": null,
   "metadata": {},
   "outputs": [],
   "source": [
    "def fileoperations(filename,mode):\n",
    "    with open(filename,mode) as f:\n",
    "        if f.mode == 'r':\n",
    "            data=f.read()\n",
    "            print(data)\n",
    "        elif f.mode=='a':\n",
    "            f.write('data to the file')\n",
    "            print('the data successfully written')\n",
    "    f.close()\n",
    "    return\n",
    "filename=input('enter the filename')\n",
    "mode=input('enter the mode of the filename')\n",
    "fileoperations(filename,mode)\n"
   ]
  },
  {
   "cell_type": "code",
   "execution_count": 42,
   "metadata": {},
   "outputs": [
    {
     "name": "stdout",
     "output_type": "stream",
     "text": [
      "data to the file"
     ]
    }
   ],
   "source": [
    "cat ss\n"
   ]
  },
  {
   "cell_type": "code",
   "execution_count": 36,
   "metadata": {},
   "outputs": [
    {
     "name": "stdout",
     "output_type": "stream",
     "text": [
      "enter the filename:ss\n",
      "enter the word:data\n"
     ]
    },
    {
     "data": {
      "text/plain": [
       "1"
      ]
     },
     "execution_count": 36,
     "metadata": {},
     "output_type": "execute_result"
    }
   ],
   "source": [
    "# data analysis\n",
    "# word count program\n",
    "def wordcount(filename,word):\n",
    "    with open(filename,'r') as f:\n",
    "        if f.mode == 'r':\n",
    "            x=f.read()\n",
    "            li=x.split() # its splits the string with whitespace\n",
    "    cnt = li.count(word)\n",
    "    return cnt\n",
    "filename=input('enter the filename:')\n",
    "word=input('enter the word:') # which word count you need\n",
    "wordcount(filename,word)"
   ]
  },
  {
   "cell_type": "code",
   "execution_count": 4,
   "metadata": {},
   "outputs": [
    {
     "name": "stdout",
     "output_type": "stream",
     "text": [
      "enter the filenamess\n",
      "enter the mode of the filenamea\n",
      "the data successfully written\n"
     ]
    }
   ],
   "source": [
    "def fileoperations(filename,mode):\n",
    "    with open(filename,mode) as f:\n",
    "        if f.mode=='r':\n",
    "            data=f.read()\n",
    "patterns (RE) represents set of the values -(0-9) any digits\n",
    "            print(data)\n",
    "        elif f.mode=='a':\n",
    "            f.write('data to the file')\n",
    "            print('the data successfully written')\n",
    "    f.close()\n",
    "    return\n",
    "filename=input('enter the filename')\n",
    "mode=input('enter the mode of the filename')\n",
    "fileoperations(filename,mode)\n"
   ]
  },
  {
   "cell_type": "code",
   "execution_count": 6,
   "metadata": {
    "scrolled": true
   },
   "outputs": [
    {
     "name": "stdout",
     "output_type": "stream",
     "text": [
      "enter the filename:ss\n"
     ]
    },
    {
     "data": {
      "text/plain": [
       "32"
      ]
     },
     "execution_count": 6,
     "metadata": {},
     "output_type": "execute_result"
    }
   ],
   "source": [
    "# charcter count from the file\n",
    "def charcount(filename):\n",
    "    with open(filename,'r') as f:\n",
    "        if f.mode == 'r':\n",
    "            x=f.read()\n",
    "            li=list(x) \n",
    "    return len(li)\n",
    "filename=input('enter the filename:')\n",
    "character(filename)"
   ]
  },
  {
   "cell_type": "code",
   "execution_count": 7,
   "metadata": {},
   "outputs": [
    {
     "name": "stdout",
     "output_type": "stream",
     "text": [
      "['python progr', 'mming']\n"
     ]
    }
   ],
   "source": [
    "s1=\"python programming\"\n",
    "print(s1.split('a'))"
   ]
  },
  {
   "cell_type": "code",
   "execution_count": 34,
   "metadata": {},
   "outputs": [
    {
     "name": "stdout",
     "output_type": "stream",
     "text": [
      "enter the filename:ss\n"
     ]
    },
    {
     "data": {
      "text/plain": [
       "1"
      ]
     },
     "execution_count": 34,
     "metadata": {},
     "output_type": "execute_result"
    }
   ],
   "source": [
    "# function to find the number of lines\n",
    "# input ---filename(file2.txt)\n",
    "# output --no of lines(3)\n",
    "\n",
    "def linescount(filename):\n",
    "    with open(filename,'r') as f:\n",
    "        if f.mode == 'r':\n",
    "            x=f.read()\n",
    "            li=x.split(\"\\n\n",
    "patterns (RE) represents set of the values -(0-9) any digits\") \n",
    "    return len(li)\n",
    "filename=input('enter the filename:')\n",
    "linescount(filename)"
   ]
  },
  {
   "cell_type": "code",
   "execution_count": 23,
   "metadata": {},
   "outputs": [
    {
     "name": "stdout",
     "output_type": "stream",
     "text": [
      "enter the filename:file1.txt\n"
     ]
    },
    {
     "data": {
      "text/plain": [
       "'upper case =0,lower case =7'"
      ]
     },
     "execution_count": 23,
     "metadata": {},
     "output_type": "execute_result"
    }
   ],
   "source": [
    "#print the lower and upper characters\n",
    "def casecount(filename):\n",
    "    cntupper=0\n",
    "    cntlower=0\n",
    "    with open(filename,'r') as f:\n",
    "        if f.mode == 'r':\n",
    "            x=f.read()\n",
    "            li=list(x)\n",
    "    for i in li:\n",
    "        if i.isupper():\n",
    "            cntupper += 1\n",
    "        elif i.islower():\n",
    "            cntlower += 1\n",
    "    output ='upper case ={0},lower case ={1}'.format(cntupper,cntlower)\n",
    "    return output\n",
    "filename=input('enter the filename:')\n",
    "casecount(filename)"
   ]
  },
  {
   "cell_type": "markdown",
   "metadata": {},
   "source": [
    "### math, random, os\n",
    "- os package it contains the certain methods which works with os\n",
    "\n"
   ]
  },
  {
   "cell_type": "code",
   "execution_count": 26,
   "metadata": {},
   "outputs": [
    {
     "name": "stdout",
     "output_type": "stream",
     "text": [
      "\u001b[0m\u001b[01;34manaconda3\u001b[0m/   examples.desktop  \u001b[01;34mPublic\u001b[0m/          Untitled2.ipynb\r\n",
      "day 6.ipynb  file1.txt         python 05.ipynb  Untitled3.ipynb\r\n",
      "\u001b[01;34mDesktop\u001b[0m/     file2.txt         ss               Untitled4.ipynb\r\n",
      "\u001b[01;34mDocuments\u001b[0m/   \u001b[01;34mMusic\u001b[0m/            \u001b[01;34mTemplates\u001b[0m/       Untitled.ipynb\r\n",
      "\u001b[01;34mDownloads\u001b[0m/   \u001b[01;34mPictures\u001b[0m/         Untitled1.ipynb  \u001b[01;34mVideos\u001b[0m/\r\n"
     ]
    }
   ],
   "source": [
    "ls"
   ]
  },
  {
   "cell_type": "code",
   "execution_count": 32,
   "metadata": {},
   "outputs": [
    {
     "name": "stdout",
     "output_type": "stream",
     "text": [
      "[Errno 2] No such file or directory: 'desktop/pythonprog'\n",
      "/home/student\n"
     ]
    }
   ],
   "source": [
    "cd desktop/pythonprog"
   ]
  },
  {
   "cell_type": "code",
   "execution_count": 35,
   "metadata": {},
   "outputs": [
    {
     "data": {
      "text/plain": [
       "['.Xauthority',\n",
       " 'Music',\n",
       " 'Pictures',\n",
       " 'ss',\n",
       " 'Documents',\n",
       " 'examples.desktop',\n",
       " '.gnupg',\n",
       " '.xsession-errors',\n",
       " '.compiz',\n",
       " 'file2.txt',\n",
       " '.bashrc',\n",
       " 'anaconda3',\n",
       " 'python 05.ipynb',\n",
       " '.xsession-errors.old',\n",
       " 'Untitled1.ipynb',\n",
       " '.profile',\n",
       " 'Untitled.ipynb',\n",
       " '.bash_logout',\n",
       " '.config',\n",
       " 'Untitled2.ipynb',\n",
       " '.ICEauthority',\n",
       " '.mozilla',\n",
       " 'day 6.ipynb',\n",
       " '.ipython',\n",
       " 'Downloads',\n",
       " 'Videos',\n",
       " 'Templates',\n",
       " '.ipynb_checkpoints',\n",
       " '.bash_history',\n",
       " '.jupyter',\n",
       " 'file1.txt',\n",
       " '.pki',\n",
       " '.local',\n",
       " 'Public',\n",
       " 'Untitled4.ipynb',\n",
       " '.cache',\n",
       " 'Untitled3.ipynb',\n",
       " '.gconf',\n",
       " 'Desktop']"
      ]
     },
     "execution_count": 35,
     "metadata": {},
     "output_type": "execute_result"
    }
   ],
   "source": [
    "import os\n",
    "os.listdir()"
   ]
  },
  {
   "cell_type": "code",
   "execution_count": 36,
   "metadata": {},
   "outputs": [
    {
     "name": "stdout",
     "output_type": "stream",
     "text": [
      "220px-Gandhi_Institute_of_Technology_and_Management_logo.jpg\n",
      "j.html\n",
      "j_files\n"
     ]
    }
   ],
   "source": [
    "li=os.listdir('Desktop')\n",
    "for i in li:\n",
    "    print(i)"
   ]
  },
  {
   "cell_type": "markdown",
   "metadata": {},
   "source": [
    "- older version of python --os.listdir()\n",
    "- newversion python -- os.scandir() and pathlib.path()"
   ]
  },
  {
   "cell_type": "code",
   "execution_count": null,
   "metadata": {},
   "outputs": [],
   "source": [
    "from pathlib import path\n",
    "li"
   ]
  },
  {
   "cell_type": "markdown",
   "metadata": {},
   "source": [
    "# listing all the files in the directory"
   ]
  },
  {
   "cell_type": "code",
   "execution_count": 39,
   "metadata": {},
   "outputs": [
    {
     "name": "stdout",
     "output_type": "stream",
     "text": [
      "220px-Gandhi_Institute_of_Technology_and_Management_logo.jpg\n",
      "j.html\n"
     ]
    }
   ],
   "source": [
    "import os\n",
    "dirpath =\"Desktop\"\n",
    "for i in os.listdir(dirpath):\n",
    "    if os.path.isfile(os.path.join(dirpath,i)):\n",
    "        print(i)"
   ]
  },
  {
   "cell_type": "code",
   "execution_count": 41,
   "metadata": {},
   "outputs": [
    {
     "name": "stdout",
     "output_type": "stream",
     "text": [
      "220px-Gandhi_Institute_of_Technology_and_Management_logo.jpg\n",
      "j.html\n"
     ]
    }
   ],
   "source": [
    "dirpath= 'Desktop'\n",
    "with os.scandir(dirpath) as f:\n",
    "    for i in f:\n",
    "        if i.is_file():\n",
    "            print(i.name)"
   ]
  },
  {
   "cell_type": "code",
   "execution_count": 42,
   "metadata": {},
   "outputs": [
    {
     "data": {
      "text/plain": [
       "'/home/student'"
      ]
     },
     "execution_count": 42,
     "metadata": {},
     "output_type": "execute_result"
    }
   ],
   "source": [
    "pwd"
   ]
  },
  {
   "cell_type": "markdown",
   "metadata": {},
   "source": [
    "## listing of the subdirectories"
   ]
  },
  {
   "cell_type": "code",
   "execution_count": 47,
   "metadata": {
    "scrolled": true
   },
   "outputs": [
    {
     "name": "stdout",
     "output_type": "stream",
     "text": [
      "j_files\n"
     ]
    }
   ],
   "source": [
    "from pathlib import Path\n",
    "dirpath=Path('Desktop')\n",
    "for i in dirpath.iterdir():\n",
    "    if i.is_dir():\n",
    "        print(i.name)"
   ]
  },
  {
   "cell_type": "code",
   "execution_count": 48,
   "metadata": {},
   "outputs": [],
   "source": [
    "os.mkdir('single directory')"
   ]
  },
  {
   "cell_type": "code",
   "execution_count": 49,
   "metadata": {},
   "outputs": [],
   "source": [
    "import pathlib\n",
    "p= pathlib.Path('testfolder')\n",
    "p.mkdir()"
   ]
  },
  {
   "cell_type": "code",
   "execution_count": 50,
   "metadata": {},
   "outputs": [
    {
     "name": "stdout",
     "output_type": "stream",
     "text": [
      "\u001b[0m\u001b[01;34manaconda3\u001b[0m/        file1.txt        \u001b[01;34msingle directory\u001b[0m/  Untitled3.ipynb\r\n",
      "day 6.ipynb       file2.txt        ss                 Untitled4.ipynb\r\n",
      "\u001b[01;34mDesktop\u001b[0m/          \u001b[01;34mMusic\u001b[0m/           \u001b[01;34mTemplates\u001b[0m/         Untitled.ipynb\r\n",
      "\u001b[01;34mDocuments\u001b[0m/        \u001b[01;34mPictures\u001b[0m/        \u001b[01;34mtestfolder\u001b[0m/        \u001b[01;34mVideos\u001b[0m/\r\n",
      "\u001b[01;34mDownloads\u001b[0m/        \u001b[01;34mPublic\u001b[0m/          Untitled1.ipynb\r\n",
      "examples.desktop  python 05.ipynb  Untitled2.ipynb\r\n"
     ]
    }
   ],
   "source": [
    "ls\n"
   ]
  },
  {
   "cell_type": "markdown",
   "metadata": {},
   "source": [
    "### create multiple directories"
   ]
  },
  {
   "cell_type": "code",
   "execution_count": 61,
   "metadata": {},
   "outputs": [],
   "source": [
    "import os\n",
    "os.makedirs('shivani/gitam/')"
   ]
  },
  {
   "cell_type": "code",
   "execution_count": 62,
   "metadata": {},
   "outputs": [
    {
     "name": "stdout",
     "output_type": "stream",
     "text": [
      "\u001b[0m\u001b[01;34m2019\u001b[0m/        examples.desktop  python 05.ipynb    Untitled1.ipynb\r\n",
      "\u001b[01;34manaconda3\u001b[0m/   file1.txt         \u001b[01;34mshivani\u001b[0m/           Untitled2.ipynb\r\n",
      "day 6.ipynb  file2.txt         \u001b[01;34msingle directory\u001b[0m/  Untitled3.ipynb\r\n",
      "\u001b[01;34mDesktop\u001b[0m/     \u001b[01;34mMusic\u001b[0m/            ss                 Untitled4.ipynb\r\n",
      "\u001b[01;34mDocuments\u001b[0m/   \u001b[01;34mPictures\u001b[0m/         \u001b[01;34mTemplates\u001b[0m/         Untitled.ipynb\r\n",
      "\u001b[01;34mDownloads\u001b[0m/   \u001b[01;34mPublic\u001b[0m/           \u001b[01;34mtestfolder\u001b[0m/        \u001b[01;34mVideos\u001b[0m/\r\n"
     ]
    }
   ],
   "source": [
    "ls\n"
   ]
  },
  {
   "cell_type": "code",
   "execution_count": 66,
   "metadata": {},
   "outputs": [
    {
     "name": "stdout",
     "output_type": "stream",
     "text": [
      "j.html\n"
     ]
    }
   ],
   "source": [
    "import os\n",
    "dirpath ='Desktop'\n",
    "for f_name in os.listdir(dirpath):\n",
    "    if f_name.endswith('.html'):\n",
    "        print(f_name)"
   ]
  },
  {
   "cell_type": "markdown",
   "metadata": {},
   "source": [
    "## deleting files and directory"
   ]
  },
  {
   "cell_type": "code",
   "execution_count": 67,
   "metadata": {},
   "outputs": [
    {
     "name": "stdout",
     "output_type": "stream",
     "text": [
      "\u001b[0m\u001b[01;34m2019\u001b[0m/        examples.desktop  python 05.ipynb    Untitled1.ipynb\r\n",
      "\u001b[01;34manaconda3\u001b[0m/   file1.txt         \u001b[01;34mshivani\u001b[0m/           Untitled2.ipynb\r\n",
      "day 6.ipynb  file2.txt         \u001b[01;34msingle directory\u001b[0m/  Untitled3.ipynb\r\n",
      "\u001b[01;34mDesktop\u001b[0m/     \u001b[01;34mMusic\u001b[0m/            ss                 Untitled4.ipynb\r\n",
      "\u001b[01;34mDocuments\u001b[0m/   \u001b[01;34mPictures\u001b[0m/         \u001b[01;34mTemplates\u001b[0m/         Untitled.ipynb\r\n",
      "\u001b[01;34mDownloads\u001b[0m/   \u001b[01;34mPublic\u001b[0m/           \u001b[01;34mtestfolder\u001b[0m/        \u001b[01;34mVideos\u001b[0m/\r\n"
     ]
    }
   ],
   "source": [
    "ls"
   ]
  },
  {
   "cell_type": "code",
   "execution_count": 68,
   "metadata": {},
   "outputs": [
    {
     "name": "stdout",
     "output_type": "stream",
     "text": [
      "cat: data.txt: No such file or directory\r\n"
     ]
    }
   ],
   "source": [
    "cat data.txt"
   ]
  },
  {
   "cell_type": "code",
   "execution_count": 70,
   "metadata": {},
   "outputs": [],
   "source": [
    "import os\n",
    "data_file='file1.txt'\n",
    "os.remove(data_file)"
   ]
  },
  {
   "cell_type": "code",
   "execution_count": 71,
   "metadata": {},
   "outputs": [
    {
     "name": "stdout",
     "output_type": "stream",
     "text": [
      "\u001b[0m\u001b[01;34m2019\u001b[0m/        examples.desktop  \u001b[01;34mshivani\u001b[0m/           Untitled2.ipynb\r\n",
      "\u001b[01;34manaconda3\u001b[0m/   file2.txt         \u001b[01;34msingle directory\u001b[0m/  Untitled3.ipynb\r\n",
      "day 6.ipynb  \u001b[01;34mMusic\u001b[0m/            ss                 Untitled4.ipynb\r\n",
      "\u001b[01;34mDesktop\u001b[0m/     \u001b[01;34mPictures\u001b[0m/         \u001b[01;34mTemplates\u001b[0m/         Untitled.ipynb\r\n",
      "\u001b[01;34mDocuments\u001b[0m/   \u001b[01;34mPublic\u001b[0m/           \u001b[01;34mtestfolder\u001b[0m/        \u001b[01;34mVideos\u001b[0m/\r\n",
      "\u001b[01;34mDownloads\u001b[0m/   python 05.ipynb   Untitled1.ipynb\r\n"
     ]
    }
   ],
   "source": [
    "ls"
   ]
  },
  {
   "cell_type": "code",
   "execution_count": 72,
   "metadata": {},
   "outputs": [],
   "source": [
    "data_dir ='testfolder'\n",
    "os.rmdir(data_dir)"
   ]
  },
  {
   "cell_type": "code",
   "execution_count": 73,
   "metadata": {},
   "outputs": [
    {
     "name": "stdout",
     "output_type": "stream",
     "text": [
      "\u001b[0m\u001b[01;34m2019\u001b[0m/        examples.desktop  \u001b[01;34mshivani\u001b[0m/           Untitled3.ipynb\r\n",
      "\u001b[01;34manaconda3\u001b[0m/   file2.txt         \u001b[01;34msingle directory\u001b[0m/  Untitled4.ipynb\r\n",
      "day 6.ipynb  \u001b[01;34mMusic\u001b[0m/            ss                 Untitled.ipynb\r\n",
      "\u001b[01;34mDesktop\u001b[0m/     \u001b[01;34mPictures\u001b[0m/         \u001b[01;34mTemplates\u001b[0m/         \u001b[01;34mVideos\u001b[0m/\r\n",
      "\u001b[01;34mDocuments\u001b[0m/   \u001b[01;34mPublic\u001b[0m/           Untitled1.ipynb\r\n",
      "\u001b[01;34mDownloads\u001b[0m/   python 05.ipynb   Untitled2.ipynb\r\n"
     ]
    }
   ],
   "source": [
    "ls\n"
   ]
  },
  {
   "cell_type": "code",
   "execution_count": 74,
   "metadata": {},
   "outputs": [],
   "source": [
    "import shutil\n",
    "data_dir ='2019'\n",
    "shutil.rmtree(data_dir)"
   ]
  },
  {
   "cell_type": "code",
   "execution_count": 75,
   "metadata": {},
   "outputs": [
    {
     "name": "stdout",
     "output_type": "stream",
     "text": [
      "\u001b[0m\u001b[01;34manaconda3\u001b[0m/   examples.desktop  python 05.ipynb    Untitled1.ipynb  \u001b[01;34mVideos\u001b[0m/\r\n",
      "day 6.ipynb  file2.txt         \u001b[01;34mshivani\u001b[0m/           Untitled2.ipynb\r\n",
      "\u001b[01;34mDesktop\u001b[0m/     \u001b[01;34mMusic\u001b[0m/            \u001b[01;34msingle directory\u001b[0m/  Untitled3.ipynb\r\n",
      "\u001b[01;34mDocuments\u001b[0m/   \u001b[01;34mPictures\u001b[0m/         ss                 Untitled4.ipynb\r\n",
      "\u001b[01;34mDownloads\u001b[0m/   \u001b[01;34mPublic\u001b[0m/           \u001b[01;34mTemplates\u001b[0m/         Untitled.ipynb\r\n"
     ]
    }
   ],
   "source": [
    "ls\n"
   ]
  },
  {
   "cell_type": "markdown",
   "metadata": {},
   "source": [
    "### REGUALR EXPRESSIONS"
   ]
  },
  {
   "cell_type": "markdown",
   "metadata": {},
   "source": [
    "- USED to specific pattern matching\n",
    "- symbolic notations of pattern\n",
    "  - patterns (RE) represents set of the values \n",
    "-(0-9) any digits\n"
   ]
  },
  {
   "cell_type": "markdown",
   "metadata": {},
   "source": [
    "regex"
   ]
  },
  {
   "cell_type": "code",
   "execution_count": null,
   "metadata": {},
   "outputs": [],
   "source": []
  }
 ],
 "metadata": {
  "kernelspec": {
   "display_name": "Python 3",
   "language": "python",
   "name": "python3"
  },
  "language_info": {
   "codemirror_mode": {
    "name": "ipython",
    "version": 3
   },
   "file_extension": ".py",
   "mimetype": "text/x-python",
   "name": "python",
   "nbconvert_exporter": "python",
   "pygments_lexer": "ipython3",
   "version": "3.7.3"
  }
 },
 "nbformat": 4,
 "nbformat_minor": 2
}
